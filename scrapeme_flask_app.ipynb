{
 "cells": [
  {
   "cell_type": "code",
   "execution_count": 1,
   "id": "247cd362-7982-4bac-ba16-d4ad1b9816b9",
   "metadata": {},
   "outputs": [],
   "source": [
    "import requests\n",
    "from bs4 import BeautifulSoup\n",
    "from kafka import KafkaProducer, KafkaConsumer\n",
    "import json\n",
    "import time\n",
    "from flask import Flask, jsonify\n",
    "import threading"
   ]
  },
  {
   "cell_type": "code",
   "execution_count": 2,
   "id": "4280b40f-642f-4f5f-b4c4-34388cb364e9",
   "metadata": {},
   "outputs": [
    {
     "name": "stdout",
     "output_type": "stream",
     "text": [
      "[{'title': 'Bulbasaur', 'price': '£63.00', 'description': 'Bulbasaur can be seen napping in bright sunlight. There is a seed on its back. By soaking up the sun’s rays, the seed grows progressively larger.', 'stock': '45 in stock'}, {'title': 'Ivysaur', 'price': '£87.00', 'description': 'There is a bud on this Pokémon’s back. To support its weight, Ivysaur’s legs and trunk grow thick and strong. If it starts spending more time lying in the sunlight, it’s a sign that the bud will bloom into a large flower soon.', 'stock': '142 in stock'}, {'title': 'Venusaur', 'price': '£105.00', 'description': 'There is a large flower on Venusaur’s back. The flower is said to take on vivid colors if it gets plenty of nutrition and sunlight. The flower’s aroma soothes the emotions of people.', 'stock': '30 in stock'}, {'title': 'Charmander', 'price': '£48.00', 'description': 'The flame that burns at the tip of its tail is an indication of its emotions. The flame wavers when Charmander is enjoying itself. If the Pokémon becomes enraged, the flame burns fiercely.', 'stock': '206 in stock'}, {'title': 'Charmeleon', 'price': '£165.00', 'description': 'Charmeleon mercilessly destroys its foes using its sharp claws. If it encounters a strong foe, it turns aggressive. In this excited state, the flame at the tip of its tail flares with a bluish white color.', 'stock': '284 in stock'}, {'title': 'Charizard', 'price': '£156.00', 'description': 'Charizard flies around the sky in search of powerful opponents. It breathes fire of such great heat that it melts anything. However, it never turns its fiery breath on any opponent weaker than itself.', 'stock': '31 in stock'}, {'title': 'Squirtle', 'price': '£130.00', 'description': 'Squirtle’s shell is not merely used for protection. The shell’s rounded shape and the grooves on its surface help minimize resistance in water, enabling this Pokémon to swim at high speeds.', 'stock': '178 in stock'}, {'title': 'Wartortle', 'price': '£123.00', 'description': 'Its tail is large and covered with a rich, thick fur. The tail becomes increasingly deeper in color as Wartortle ages. The scratches on its shell are evidence of this Pokémon’s toughness as a battler.', 'stock': '24 in stock'}, {'title': 'Blastoise', 'price': '£76.00', 'description': 'Blastoise has water spouts that protrude from its shell. The water spouts are very accurate. They can shoot bullets of water with enough accuracy to strike empty cans from a distance of over 160 feet.', 'stock': '88 in stock'}, {'title': 'Caterpie', 'price': '£73.00', 'description': 'Caterpie has a voracious appetite. It can devour leaves bigger than its body right before your eyes. From its antenna, this Pokémon releases a terrifically strong odor.', 'stock': '40 in stock'}, {'title': 'Metapod', 'price': '£148.00', 'description': 'The shell covering this Pokémon’s body is as hard as an iron slab. Metapod does not move very much. It stays still because it is preparing its soft innards for evolution inside the hard shell.', 'stock': '285 in stock'}, {'title': 'Butterfree', 'price': '£162.00', 'description': 'Butterfree has a superior ability to search for delicious honey from flowers. It can even search out, extract, and carry honey from flowers that are blooming over six miles from its nest.', 'stock': '242 in stock'}, {'title': 'Weedle', 'price': '£25.00', 'description': 'Weedle has an extremely acute sense of smell. It is capable of distinguishing its favorite kinds of leaves from those it dislikes just by sniffing with its big red proboscis (nose).', 'stock': '65 in stock'}, {'title': 'Kakuna', 'price': '£148.00', 'description': 'Kakuna remains virtually immobile as it clings to a tree. However, on the inside, it is extremely busy as it prepares for its coming evolution. This is evident from how hot the shell becomes to the touch.', 'stock': '260 in stock'}, {'title': 'Beedrill', 'price': '£168.00', 'description': 'Beedrill is extremely territorial. No one should ever approach its nest—this is for their own safety. If angered, they will attack in a furious swarm.', 'stock': '125 in stock'}, {'title': 'Pidgey', 'price': '£159.00', 'description': 'Pidgey has an extremely sharp sense of direction. It is capable of unerringly returning home to its nest, however far it may be removed from its familiar surroundings.', 'stock': '175 in stock'}]\n"
     ]
    }
   ],
   "source": [
    "def get_product():\n",
    "    url = \"https://scrapeme.live/shop/\"\n",
    "    response = requests.get(url)\n",
    "    # use BeautifulSoup to read html content\n",
    "    # it helps find and get data we need from webpage\n",
    "    soup = BeautifulSoup(response.content, \"html.parser\")\n",
    "\n",
    "    #create product list\n",
    "    products = []\n",
    "    for product in soup.select(\".product\"):\n",
    "        title = product.select_one(\".woocommerce-loop-product__title\").text.strip()\n",
    "        price = product.select_one(\".price\").text.strip()\n",
    "\n",
    "        #get product link because description and stock information are in the product page\n",
    "        product_link = product.select_one(\"a\").get(\"href\")\n",
    "\n",
    "        #get product details from the product link \n",
    "        product_response = requests.get(product_link)\n",
    "        product_soup = BeautifulSoup(product_response.content, \"html.parser\")\n",
    "\n",
    "        description = product_soup.select_one(\".woocommerce-product-details__short-description\")\n",
    "        description = description.text.strip() if description else \"No description available\"\n",
    "        \n",
    "        stock_info = product_soup.select_one(\".stock\")\n",
    "        stock = stock_info.text.strip() if stock_info else \"Stock information not available\"\n",
    "\n",
    "        #add informations to product list\n",
    "        products.append({\n",
    "            \"title\": title,\n",
    "            \"price\": price,\n",
    "            \"description\": description,\n",
    "            \"stock\": stock\n",
    "        })\n",
    "\n",
    "    return products\n",
    "\n",
    "#call function and print what we have\n",
    "data = get_product()\n",
    "print(data)"
   ]
  },
  {
   "cell_type": "code",
   "execution_count": 3,
   "id": "6e2e78b9-4156-458a-84b2-dca9489dd7a8",
   "metadata": {},
   "outputs": [],
   "source": [
    "def create_producer():\n",
    "    try:\n",
    "        # create kafka producer to send messages to the kafka server\n",
    "        producer = KafkaProducer(\n",
    "            bootstrap_servers='localhost:9093',  #connect to the server\n",
    "            value_serializer=lambda v: json.dumps(v).encode('utf-8')  #convert messages to JSON format\n",
    "        )\n",
    "        return producer\n",
    "    except Exception as e:\n",
    "        print(f\"Producer creating error: {e}\")\n",
    "        return None\n",
    "\n",
    "\n",
    "def produce_messages(producer, data):\n",
    "    #send data lsit to my-topic\n",
    "    try:\n",
    "        for item in data:\n",
    "            producer.send('my-topic', value=item)\n",
    "            print(f\"Sent message: {item}\") #print the message to see being sent correctly\n",
    "            time.sleep(1)  # waiting for 1 second to send next message\n",
    "        producer.flush()  # ensure all messages are sent\n",
    "    except Exception as e:\n",
    "        print(f\"Sending error messages: {e}\")"
   ]
  },
  {
   "cell_type": "code",
   "execution_count": 4,
   "id": "0019471a-cfe4-4c84-9619-96e50e7ddd7b",
   "metadata": {},
   "outputs": [],
   "source": [
    "def write_to_file():\n",
    "    # create a consumer to read messages from my-topic\n",
    "    consumer = KafkaConsumer(\n",
    "        'my-topic',\n",
    "        bootstrap_servers='localhost:9093',  # listener\n",
    "        auto_offset_reset='earliest',\n",
    "        group_id='my-group',\n",
    "        enable_auto_commit=True,\n",
    "        auto_commit_interval_ms=5000\n",
    "    )\n",
    "\n",
    "    messages = []\n",
    "    try:\n",
    "        for message in consumer:\n",
    "            print(f\"Received message: {message.value.decode('utf-8')}\") #print messages so we can see what we received\n",
    "            messages.append(message.value.decode('utf-8')) #decode message and add to list\n",
    "\n",
    "            # write in json file\n",
    "            with open('kafka_data.json', 'w') as file:\n",
    "                json.dump(messages, file)\n",
    "    except Exception as e:\n",
    "        print(f\"Consumer loop error: {e}\")\n",
    "    finally:\n",
    "        consumer.close()"
   ]
  },
  {
   "cell_type": "code",
   "execution_count": 6,
   "id": "da17810a-f691-415e-908a-10d74ea10c59",
   "metadata": {},
   "outputs": [
    {
     "name": "stdout",
     "output_type": "stream",
     "text": [
      "Sent message: {'title': 'Bulbasaur', 'price': '£63.00', 'description': 'Bulbasaur can be seen napping in bright sunlight. There is a seed on its back. By soaking up the sun’s rays, the seed grows progressively larger.', 'stock': '45 in stock'}\n",
      "Sent message: {'title': 'Ivysaur', 'price': '£87.00', 'description': 'There is a bud on this Pokémon’s back. To support its weight, Ivysaur’s legs and trunk grow thick and strong. If it starts spending more time lying in the sunlight, it’s a sign that the bud will bloom into a large flower soon.', 'stock': '142 in stock'}\n",
      "Sent message: {'title': 'Venusaur', 'price': '£105.00', 'description': 'There is a large flower on Venusaur’s back. The flower is said to take on vivid colors if it gets plenty of nutrition and sunlight. The flower’s aroma soothes the emotions of people.', 'stock': '30 in stock'}\n",
      "Sent message: {'title': 'Charmander', 'price': '£48.00', 'description': 'The flame that burns at the tip of its tail is an indication of its emotions. The flame wavers when Charmander is enjoying itself. If the Pokémon becomes enraged, the flame burns fiercely.', 'stock': '206 in stock'}\n",
      "Sent message: {'title': 'Charmeleon', 'price': '£165.00', 'description': 'Charmeleon mercilessly destroys its foes using its sharp claws. If it encounters a strong foe, it turns aggressive. In this excited state, the flame at the tip of its tail flares with a bluish white color.', 'stock': '284 in stock'}\n",
      "Sent message: {'title': 'Charizard', 'price': '£156.00', 'description': 'Charizard flies around the sky in search of powerful opponents. It breathes fire of such great heat that it melts anything. However, it never turns its fiery breath on any opponent weaker than itself.', 'stock': '31 in stock'}\n",
      "Sent message: {'title': 'Squirtle', 'price': '£130.00', 'description': 'Squirtle’s shell is not merely used for protection. The shell’s rounded shape and the grooves on its surface help minimize resistance in water, enabling this Pokémon to swim at high speeds.', 'stock': '178 in stock'}\n",
      "Sent message: {'title': 'Wartortle', 'price': '£123.00', 'description': 'Its tail is large and covered with a rich, thick fur. The tail becomes increasingly deeper in color as Wartortle ages. The scratches on its shell are evidence of this Pokémon’s toughness as a battler.', 'stock': '24 in stock'}\n",
      "Sent message: {'title': 'Blastoise', 'price': '£76.00', 'description': 'Blastoise has water spouts that protrude from its shell. The water spouts are very accurate. They can shoot bullets of water with enough accuracy to strike empty cans from a distance of over 160 feet.', 'stock': '88 in stock'}\n",
      "Sent message: {'title': 'Caterpie', 'price': '£73.00', 'description': 'Caterpie has a voracious appetite. It can devour leaves bigger than its body right before your eyes. From its antenna, this Pokémon releases a terrifically strong odor.', 'stock': '40 in stock'}\n",
      "Sent message: {'title': 'Metapod', 'price': '£148.00', 'description': 'The shell covering this Pokémon’s body is as hard as an iron slab. Metapod does not move very much. It stays still because it is preparing its soft innards for evolution inside the hard shell.', 'stock': '285 in stock'}\n",
      "Sent message: {'title': 'Butterfree', 'price': '£162.00', 'description': 'Butterfree has a superior ability to search for delicious honey from flowers. It can even search out, extract, and carry honey from flowers that are blooming over six miles from its nest.', 'stock': '242 in stock'}\n",
      "Sent message: {'title': 'Weedle', 'price': '£25.00', 'description': 'Weedle has an extremely acute sense of smell. It is capable of distinguishing its favorite kinds of leaves from those it dislikes just by sniffing with its big red proboscis (nose).', 'stock': '65 in stock'}\n",
      "Sent message: {'title': 'Kakuna', 'price': '£148.00', 'description': 'Kakuna remains virtually immobile as it clings to a tree. However, on the inside, it is extremely busy as it prepares for its coming evolution. This is evident from how hot the shell becomes to the touch.', 'stock': '260 in stock'}\n",
      "Sent message: {'title': 'Beedrill', 'price': '£168.00', 'description': 'Beedrill is extremely territorial. No one should ever approach its nest—this is for their own safety. If angered, they will attack in a furious swarm.', 'stock': '125 in stock'}\n",
      "Sent message: {'title': 'Pidgey', 'price': '£159.00', 'description': 'Pidgey has an extremely sharp sense of direction. It is capable of unerringly returning home to its nest, however far it may be removed from its familiar surroundings.', 'stock': '175 in stock'}\n",
      " * Serving Flask app '__main__'\n",
      " * Debug mode: off\n"
     ]
    },
    {
     "name": "stderr",
     "output_type": "stream",
     "text": [
      "WARNING: This is a development server. Do not use it in a production deployment. Use a production WSGI server instead.\n",
      " * Running on all addresses (0.0.0.0)\n",
      " * Running on http://127.0.0.1:5000\n",
      " * Running on http://10.5.52.123:5000\n",
      "Press CTRL+C to quit\n"
     ]
    }
   ],
   "source": [
    "app = Flask(__name__)\n",
    "\n",
    "# flask route\n",
    "@app.route('/data', methods=['GET'])\n",
    "def get_data():\n",
    "    #read data from 'kafka_data.json' and return it as json\n",
    "    try:\n",
    "        with open('kafka_data.json', 'r') as f:\n",
    "            data = json.load(f)\n",
    "        return jsonify(data)\n",
    "    except Exception as e:\n",
    "        print(f\"Error reading kafka_data.json file: {e}\")\n",
    "        #return error http 500 status\n",
    "        return jsonify({\"error\": \"Failed to read data\"}), 500\n",
    "\n",
    "#flask runner\n",
    "def run_flask():\n",
    "    app.run(host='0.0.0.0', port=5000)\n",
    "\n",
    "\n",
    "if __name__ == '__main__':\n",
    "    # Start Kafka consumer in a separate thread\n",
    "    consumer_thread = threading.Thread(target=write_to_file)\n",
    "    consumer_thread.daemon = True  # Ensure thread exits when the main program exits\n",
    "    consumer_thread.start()\n",
    "\n",
    "    #get data and send produce messages\n",
    "    try:\n",
    "        producer = create_producer()\n",
    "        if producer:\n",
    "            data = get_product()  # Assuming get_product() is defined elsewhere\n",
    "            produce_messages(producer, data)\n",
    "        else:\n",
    "            print(\"Producer could not be created.\")\n",
    "    except Exception as e:\n",
    "        print(f\"Error in producing messages: {e}\")\n",
    "\n",
    "    # Start Flask app\n",
    "    run_flask()"
   ]
  },
  {
   "cell_type": "code",
   "execution_count": null,
   "id": "01dd6589-8d3e-487e-bd33-42c7638e8b66",
   "metadata": {},
   "outputs": [],
   "source": []
  },
  {
   "cell_type": "code",
   "execution_count": null,
   "id": "d56ea4d4-f900-4787-be25-b0c5e1d6ec4b",
   "metadata": {},
   "outputs": [],
   "source": []
  }
 ],
 "metadata": {
  "colab": {
   "provenance": []
  },
  "editor": "DataCamp Workspace",
  "kernelspec": {
   "display_name": "Python 3 (ipykernel)",
   "language": "python",
   "name": "python3"
  },
  "language_info": {
   "codemirror_mode": {
    "name": "ipython",
    "version": 3
   },
   "file_extension": ".py",
   "mimetype": "text/x-python",
   "name": "python",
   "nbconvert_exporter": "python",
   "pygments_lexer": "ipython3",
   "version": "3.11.0"
  }
 },
 "nbformat": 4,
 "nbformat_minor": 5
}
